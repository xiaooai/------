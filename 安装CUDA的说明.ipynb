{
 "cells": [
  {
   "cell_type": "code",
   "execution_count": null,
   "metadata": {},
   "outputs": [],
   "source": []
  },
  {
   "cell_type": "markdown",
   "metadata": {},
   "source": [
    "# 安装CUDA的方法说明"
   ]
  },
  {
   "cell_type": "markdown",
   "metadata": {},
   "source": [
    "* 报错信息： Torch not compiled with CUDA enabled\n",
    "* 原因：未安装CUDA\n",
    "* 方法如下："
   ]
  },
  {
   "cell_type": "markdown",
   "metadata": {},
   "source": [
    "#### 查看自己电脑的CUDA版本\n",
    "```shell\n",
    "nvcc --version\n",
    "```"
   ]
  },
  {
   "cell_type": "markdown",
   "metadata": {},
   "source": [
    "#### 根据版本找到对应的命令行指令\n",
    "* 网站如下https://pytorch.org/get-started/locally/\n",
    "* 例如我的是：\n",
    "```shell\n",
    " pip3 install torch torchvision torchaudio --index-url https://download.pytorch.org/whl/cu118\n",
    "```"
   ]
  },
  {
   "cell_type": "code",
   "execution_count": null,
   "metadata": {},
   "outputs": [],
   "source": [
    "# 检查是否安装完成\n",
    "import torch\n",
    "torch.cuda.is_avaliable()"
   ]
  }
 ],
 "metadata": {
  "language_info": {
   "name": "python"
  }
 },
 "nbformat": 4,
 "nbformat_minor": 2
}
